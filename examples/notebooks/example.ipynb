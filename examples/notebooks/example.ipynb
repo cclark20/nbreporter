{
 "cells": [
  {
   "cell_type": "code",
   "execution_count": 1,
   "metadata": {
    "execution": {
     "iopub.execute_input": "2022-12-27T22:41:46.331798Z",
     "iopub.status.busy": "2022-12-27T22:41:46.331798Z",
     "iopub.status.idle": "2022-12-27T22:41:46.435795Z",
     "shell.execute_reply": "2022-12-27T22:41:46.434831Z"
    }
   },
   "outputs": [],
   "source": [
    "import os\n",
    "import yaml\n",
    "PARAMS_YAML = '.yaml'\n",
    "if os.path.isfile(PARAMS_YAML):\n",
    "    with open(PARAMS_YAML, 'r') as f:\n",
    "        try:\n",
    "            inputs = yaml.safe_load(f)\n",
    "        except yaml.YAMLError as e:\n",
    "            raise Exception(e)\n",
    "else:\n",
    "    raise Exception('No input yaml found.')\n"
   ]
  },
  {
   "cell_type": "markdown",
   "metadata": {},
   "source": [
    "# Example Template Notebook"
   ]
  },
  {
   "cell_type": "code",
   "execution_count": 2,
   "metadata": {
    "execution": {
     "iopub.execute_input": "2022-12-27T22:41:46.439796Z",
     "iopub.status.busy": "2022-12-27T22:41:46.438795Z",
     "iopub.status.idle": "2022-12-27T22:41:46.451797Z",
     "shell.execute_reply": "2022-12-27T22:41:46.450839Z"
    }
   },
   "outputs": [
    {
     "name": "stdout",
     "output_type": "stream",
     "text": [
      "Title: Hello World!\n",
      "input1: this is input 1\n",
      "input2: this is input 2\n"
     ]
    }
   ],
   "source": [
    "print(f\"Title: {inputs['title']}\")\n",
    "print(f\"input1: {inputs['inputs']['input1']}\")\n",
    "print(f\"input2: {inputs['inputs']['input2']}\")"
   ]
  }
 ],
 "metadata": {
  "kernelspec": {
   "display_name": "Python 3.10.8 64-bit",
   "language": "python",
   "name": "python3"
  },
  "language_info": {
   "codemirror_mode": {
    "name": "ipython",
    "version": 3
   },
   "file_extension": ".py",
   "mimetype": "text/x-python",
   "name": "python",
   "nbconvert_exporter": "python",
   "pygments_lexer": "ipython3",
   "version": "3.10.8"
  },
  "vscode": {
   "interpreter": {
    "hash": "5f1f45763fe77197d5a1c50a7f82be8f5d42347ab43ba4f404a60ba604e55891"
   }
  }
 },
 "nbformat": 4,
 "nbformat_minor": 2
}
