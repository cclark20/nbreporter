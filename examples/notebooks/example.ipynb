{
 "cells": [
  {
   "cell_type": "code",
   "execution_count": 1,
   "metadata": {
    "execution": {
     "iopub.execute_input": "2023-01-04T22:23:43.964675Z",
     "iopub.status.busy": "2023-01-04T22:23:43.963677Z",
     "iopub.status.idle": "2023-01-04T22:23:44.069603Z",
     "shell.execute_reply": "2023-01-04T22:23:44.067619Z"
    }
   },
   "outputs": [],
   "source": [
    "import nbreporter as nbr\n",
    "inputs = nbr.load_inputs()"
   ]
  },
  {
   "cell_type": "markdown",
   "metadata": {},
   "source": [
    "# Example Template Notebook"
   ]
  },
  {
   "cell_type": "code",
   "execution_count": 2,
   "metadata": {
    "execution": {
     "iopub.execute_input": "2023-01-04T22:23:44.073578Z",
     "iopub.status.busy": "2023-01-04T22:23:44.073578Z",
     "iopub.status.idle": "2023-01-04T22:23:44.084539Z",
     "shell.execute_reply": "2023-01-04T22:23:44.083579Z"
    }
   },
   "outputs": [
    {
     "name": "stdout",
     "output_type": "stream",
     "text": [
      "Title: Hello World!\n",
      "input1: this is input 1\n",
      "input2: this is input 2\n"
     ]
    }
   ],
   "source": [
    "print(f\"Title: {inputs['title']}\")\n",
    "print(f\"input1: {inputs['inputs']['input1']}\")\n",
    "print(f\"input2: {inputs['inputs']['input2']}\")"
   ]
  }
 ],
 "metadata": {
  "kernelspec": {
   "display_name": "Python 3.10.8 64-bit",
   "language": "python",
   "name": "python3"
  },
  "language_info": {
   "codemirror_mode": {
    "name": "ipython",
    "version": 3
   },
   "file_extension": ".py",
   "mimetype": "text/x-python",
   "name": "python",
   "nbconvert_exporter": "python",
   "pygments_lexer": "ipython3",
   "version": "3.10.8"
  },
  "vscode": {
   "interpreter": {
    "hash": "5f1f45763fe77197d5a1c50a7f82be8f5d42347ab43ba4f404a60ba604e55891"
   }
  }
 },
 "nbformat": 4,
 "nbformat_minor": 2
}
