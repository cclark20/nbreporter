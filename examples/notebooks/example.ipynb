{
 "cells": [
  {
   "cell_type": "markdown",
   "metadata": {},
   "source": [
    "# Example Template Notebook"
   ]
  },
  {
   "cell_type": "code",
   "execution_count": 1,
   "metadata": {
    "execution": {
     "iopub.execute_input": "2022-12-25T03:20:29.484123Z",
     "iopub.status.busy": "2022-12-25T03:20:29.483156Z",
     "iopub.status.idle": "2022-12-25T03:20:29.519457Z",
     "shell.execute_reply": "2022-12-25T03:20:29.516816Z"
    }
   },
   "outputs": [
    {
     "name": "stdout",
     "output_type": "stream",
     "text": [
      "my executed notebook\n"
     ]
    }
   ],
   "source": [
    "print('my executed notebook')"
   ]
  }
 ],
 "metadata": {
  "kernelspec": {
   "display_name": "Python 3.10.8 64-bit",
   "language": "python",
   "name": "python3"
  },
  "language_info": {
   "codemirror_mode": {
    "name": "ipython",
    "version": 3
   },
   "file_extension": ".py",
   "mimetype": "text/x-python",
   "name": "python",
   "nbconvert_exporter": "python",
   "pygments_lexer": "ipython3",
   "version": "3.10.8"
  },
  "vscode": {
   "interpreter": {
    "hash": "5f1f45763fe77197d5a1c50a7f82be8f5d42347ab43ba4f404a60ba604e55891"
   }
  }
 },
 "nbformat": 4,
 "nbformat_minor": 2
}
